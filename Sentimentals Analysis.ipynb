{
 "cells": [
  {
   "cell_type": "markdown",
   "id": "fc93b75e",
   "metadata": {},
   "source": [
    "Importing libraries"
   ]
  },
  {
   "cell_type": "code",
   "execution_count": null,
   "id": "2c5217dd",
   "metadata": {},
   "outputs": [],
   "source": [
    "import pandas as pd\n",
    "from nltk.sentiment.vader import SentimentIntensityAnalyzer\n",
    "import nltk\n",
    "import re\n",
    "import string\n",
    "import math\n",
    "nltk.download('stopwords')\n",
    "stemmer = nltk.SnowballStemmer(\"english\")\n",
    "from nltk.corpus import stopwords"
   ]
  },
  {
   "cell_type": "markdown",
   "id": "e1aab464",
   "metadata": {},
   "source": [
    "Load dataset"
   ]
  },
  {
   "cell_type": "code",
   "execution_count": null,
   "id": "465320ac",
   "metadata": {},
   "outputs": [],
   "source": [
    "pddf = pd.read_csv('Dataset-SA.csv')"
   ]
  },
  {
   "cell_type": "code",
   "execution_count": null,
   "id": "2e0cc47a",
   "metadata": {},
   "outputs": [],
   "source": [
    "pddf.shape"
   ]
  },
  {
   "cell_type": "code",
   "execution_count": null,
   "id": "cdb68cf2",
   "metadata": {},
   "outputs": [],
   "source": [
    "pddf.describe()"
   ]
  },
  {
   "cell_type": "code",
   "execution_count": null,
   "id": "b444b86c",
   "metadata": {},
   "outputs": [],
   "source": [
    "pddf.info()"
   ]
  },
  {
   "cell_type": "code",
   "execution_count": null,
   "id": "e02392b2",
   "metadata": {},
   "outputs": [],
   "source": [
    "pdDF = pddf.copy()"
   ]
  },
  {
   "cell_type": "code",
   "execution_count": null,
   "id": "82e619cd",
   "metadata": {},
   "outputs": [],
   "source": [
    "pdDF.equals(pddf)"
   ]
  },
  {
   "cell_type": "markdown",
   "id": "70c1f5e2",
   "metadata": {},
   "source": [
    "left aligning the rows"
   ]
  },
  {
   "cell_type": "code",
   "execution_count": null,
   "id": "498cea4d",
   "metadata": {},
   "outputs": [],
   "source": [
    "pdDF.isnull().sum()"
   ]
  },
  {
   "cell_type": "code",
   "execution_count": null,
   "id": "a63865fb",
   "metadata": {},
   "outputs": [],
   "source": [
    "pdDF.dropna(inplace=True)"
   ]
  },
  {
   "cell_type": "code",
   "execution_count": null,
   "id": "46292e62",
   "metadata": {},
   "outputs": [],
   "source": [
    "pdDF = pdDF.drop_duplicates(keep = False)"
   ]
  },
  {
   "cell_type": "markdown",
   "id": "5330e0ca",
   "metadata": {},
   "source": [
    "function to clean and preprocess text"
   ]
  },
  {
   "cell_type": "code",
   "execution_count": null,
   "id": "c12ad3a7",
   "metadata": {},
   "outputs": [],
   "source": [
    "def clean(text):\n",
    "    text = str(text).lower()\n",
    "    text = re.sub('\\[.*?\\]', '', text)\n",
    "    text = re.sub('https?://\\S+|www\\.\\S+', '', text)\n",
    "    text = re.sub('<.*?>+', '', text)\n",
    "    text = re.sub('[%s]' % re.escape(string.punctuation), '', text)\n",
    "    text = re.sub('\\n', '', text)\n",
    "    text = re.sub('\\w*\\d\\w*', '', text)\n",
    "    text=\" \".join(text)\n",
    "    text=\" \".join(text)\n",
    "    return text\n",
    "pdDF[\"Review\"] = pdDF[\"Review\"].apply(clean)\n"
   ]
  },
  {
   "cell_type": "markdown",
   "id": "f8a4d45f",
   "metadata": {},
   "source": [
    "dropping rows that contain text on price and rate columns"
   ]
  },
  {
   "cell_type": "code",
   "execution_count": null,
   "id": "83aac845",
   "metadata": {},
   "outputs": [],
   "source": [
    "pdDF['product_price'] = pd.to_numeric(pdDF['product_price'], errors='coerce')\n",
    "pdDF['Rate'] = pd.to_numeric(pdDF['Rate'], errors='coerce')\n",
    "pdDF = pdDF.dropna(subset=['product_price', 'Rate'], how='all')"
   ]
  },
  {
   "cell_type": "markdown",
   "id": "2f1b5cac",
   "metadata": {},
   "source": [
    "initcap"
   ]
  },
  {
   "cell_type": "code",
   "execution_count": null,
   "id": "81267048",
   "metadata": {},
   "outputs": [],
   "source": [
    "def capitalize_if_string(text):\n",
    "    if isinstance(text, str):\n",
    "        return text.capitalize()\n",
    "    else:\n",
    "        return text"
   ]
  },
  {
   "cell_type": "code",
   "execution_count": null,
   "id": "8ce72038",
   "metadata": {},
   "outputs": [],
   "source": [
    "pdDF['Review'] = pdDF['Review'].apply(capitalize_if_string)\n",
    "pdDF['Summary'] = pdDF['Summary'].apply(capitalize_if_string)\n",
    "pdDF['Sentiment'] = pdDF['Sentiment'].apply(capitalize_if_string)"
   ]
  },
  {
   "cell_type": "markdown",
   "id": "d900b032",
   "metadata": {},
   "source": [
    "rounding off decimals"
   ]
  },
  {
   "cell_type": "code",
   "execution_count": null,
   "id": "c60b8704",
   "metadata": {},
   "outputs": [],
   "source": [
    "pdDF['product_price'] = pdDF['product_price'].round(0)\n",
    "pdDF['Rate'] = pdDF['Rate'].round(0)"
   ]
  },
  {
   "cell_type": "code",
   "execution_count": null,
   "id": "320733c9",
   "metadata": {},
   "outputs": [],
   "source": [
    "def remove_stopwords(word_list):\n",
    "    processed_word_list = []\n",
    "    for word in word_list:\n",
    "        word = word.lower()\n",
    "        if word not in stopwords.words(\"english\"):\n",
    "            processed_word_list.append(word)\n",
    "    return processed_word_list"
   ]
  },
  {
   "cell_type": "markdown",
   "id": "2d320106",
   "metadata": {},
   "source": [
    "calling the function"
   ]
  },
  {
   "cell_type": "code",
   "execution_count": null,
   "id": "fc2e4aaa",
   "metadata": {},
   "outputs": [],
   "source": [
    "pdDF is pddf"
   ]
  },
  {
   "cell_type": "code",
   "execution_count": null,
   "id": "29e4be3a",
   "metadata": {},
   "outputs": [],
   "source": [
    "pdDF['Stopwords_Review'] = pdDF['Review'].apply(lambda x: remove_stopwords(x.split()) if isinstance(x, str) else x)\n",
    "pdDF['Stopwords_Summary'] = pdDF['Summary'].apply(lambda x: remove_stopwords(x.split()) if isinstance(x, str) else x)"
   ]
  },
  {
   "cell_type": "code",
   "execution_count": null,
   "id": "6d86fdbc",
   "metadata": {},
   "outputs": [],
   "source": [
    "pdDF"
   ]
  },
  {
   "cell_type": "code",
   "execution_count": null,
   "id": "1e880183",
   "metadata": {},
   "outputs": [],
   "source": [
    "pdDF['product_name'] = pdDF['product_name'].str.replace('?', '')"
   ]
  },
  {
   "cell_type": "code",
   "execution_count": null,
   "id": "99600cd1",
   "metadata": {},
   "outputs": [],
   "source": [
    "pdDF"
   ]
  },
  {
   "cell_type": "code",
   "execution_count": null,
   "id": "905cccc5",
   "metadata": {},
   "outputs": [],
   "source": [
    "pdDF = pdDF.style.set_properties(**{'text-align': 'left'})\n",
    "pdDF"
   ]
  },
  {
   "cell_type": "code",
   "execution_count": null,
   "id": "13d0c2b3",
   "metadata": {},
   "outputs": [],
   "source": []
  }
 ],
 "metadata": {
  "kernelspec": {
   "display_name": "Python 3 (ipykernel)",
   "language": "python",
   "name": "python3"
  },
  "language_info": {
   "codemirror_mode": {
    "name": "ipython",
    "version": 3
   },
   "file_extension": ".py",
   "mimetype": "text/x-python",
   "name": "python",
   "nbconvert_exporter": "python",
   "pygments_lexer": "ipython3",
   "version": "3.11.5"
  }
 },
 "nbformat": 4,
 "nbformat_minor": 5
}
